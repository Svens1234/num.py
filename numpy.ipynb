{
 "cells": [
  {
   "cell_type": "code",
   "execution_count": 180,
   "id": "c25d229d",
   "metadata": {},
   "outputs": [],
   "source": [
    "import numpy as np"
   ]
  },
  {
   "cell_type": "code",
   "execution_count": 2,
   "id": "866e6481",
   "metadata": {},
   "outputs": [
    {
     "data": {
      "text/plain": [
       "'1.21.4'"
      ]
     },
     "execution_count": 2,
     "metadata": {},
     "output_type": "execute_result"
    }
   ],
   "source": [
    "np.__version__"
   ]
  },
  {
   "cell_type": "code",
   "execution_count": 5,
   "id": "f8e5b723",
   "metadata": {},
   "outputs": [],
   "source": [
    "my_list=[4,8,15,16,23,42]"
   ]
  },
  {
   "cell_type": "code",
   "execution_count": 6,
   "id": "261358c1",
   "metadata": {},
   "outputs": [],
   "source": [
    "my_array_from_list=np.array(my_list)"
   ]
  },
  {
   "cell_type": "code",
   "execution_count": 7,
   "id": "beaa08b7",
   "metadata": {},
   "outputs": [
    {
     "data": {
      "text/plain": [
       "array([ 4,  8, 15, 16, 23, 42])"
      ]
     },
     "execution_count": 7,
     "metadata": {},
     "output_type": "execute_result"
    }
   ],
   "source": [
    "my_array_from_list"
   ]
  },
  {
   "cell_type": "code",
   "execution_count": 8,
   "id": "31d8f46a",
   "metadata": {},
   "outputs": [
    {
     "data": {
      "text/plain": [
       "array([ 40,  80, 150, 160, 230, 420])"
      ]
     },
     "execution_count": 8,
     "metadata": {},
     "output_type": "execute_result"
    }
   ],
   "source": [
    "my_array_from_list*10"
   ]
  },
  {
   "cell_type": "code",
   "execution_count": 9,
   "id": "0bfd3877",
   "metadata": {},
   "outputs": [],
   "source": [
    "my_tuple=(14,-3.57,5+7j)"
   ]
  },
  {
   "cell_type": "code",
   "execution_count": 10,
   "id": "f01b8f25",
   "metadata": {},
   "outputs": [
    {
     "data": {
      "text/plain": [
       "array([14.  +0.j, -3.57+0.j,  5.  +7.j])"
      ]
     },
     "execution_count": 10,
     "metadata": {},
     "output_type": "execute_result"
    }
   ],
   "source": [
    "np.array(my_tuple)"
   ]
  },
  {
   "cell_type": "code",
   "execution_count": 11,
   "id": "b5f0375e",
   "metadata": {},
   "outputs": [
    {
     "data": {
      "text/plain": [
       "array([ 70.   +0.j, -17.85 +0.j,  25.  +35.j])"
      ]
     },
     "execution_count": 11,
     "metadata": {},
     "output_type": "execute_result"
    }
   ],
   "source": [
    "np.array(my_tuple)*5"
   ]
  },
  {
   "cell_type": "code",
   "execution_count": 12,
   "id": "61d3ba78",
   "metadata": {},
   "outputs": [
    {
     "data": {
      "text/plain": [
       "array([0, 1, 2, 3, 4, 5, 6, 7, 8, 9])"
      ]
     },
     "execution_count": 12,
     "metadata": {},
     "output_type": "execute_result"
    }
   ],
   "source": [
    "np.arange(10)"
   ]
  },
  {
   "cell_type": "code",
   "execution_count": 13,
   "id": "0b9c0395",
   "metadata": {},
   "outputs": [
    {
     "data": {
      "text/plain": [
       "array([10, 11, 12, 13, 14, 15, 16, 17, 18, 19, 20])"
      ]
     },
     "execution_count": 13,
     "metadata": {},
     "output_type": "execute_result"
    }
   ],
   "source": [
    "np.arange(10,21)"
   ]
  },
  {
   "cell_type": "code",
   "execution_count": 14,
   "id": "a2c4d779",
   "metadata": {},
   "outputs": [
    {
     "data": {
      "text/plain": [
       "11"
      ]
     },
     "execution_count": 14,
     "metadata": {},
     "output_type": "execute_result"
    }
   ],
   "source": [
    "len(np.arange(10,21))"
   ]
  },
  {
   "cell_type": "code",
   "execution_count": 15,
   "id": "a47def5a",
   "metadata": {},
   "outputs": [
    {
     "data": {
      "text/plain": [
       "array([10, 12, 14, 16, 18, 20])"
      ]
     },
     "execution_count": 15,
     "metadata": {},
     "output_type": "execute_result"
    }
   ],
   "source": [
    "np.arange(10,21,2)"
   ]
  },
  {
   "cell_type": "code",
   "execution_count": 16,
   "id": "ca085478",
   "metadata": {},
   "outputs": [
    {
     "data": {
      "text/plain": [
       "array([ 0.,  3.,  6.,  9., 12., 15., 18., 21., 24., 27., 30.])"
      ]
     },
     "execution_count": 16,
     "metadata": {},
     "output_type": "execute_result"
    }
   ],
   "source": [
    "np.linspace(0,30,11)"
   ]
  },
  {
   "cell_type": "code",
   "execution_count": 17,
   "id": "a4a76ef5",
   "metadata": {},
   "outputs": [
    {
     "data": {
      "text/plain": [
       "11"
      ]
     },
     "execution_count": 17,
     "metadata": {},
     "output_type": "execute_result"
    }
   ],
   "source": [
    "np.linspace(0,30,11).size"
   ]
  },
  {
   "cell_type": "code",
   "execution_count": 18,
   "id": "5cbbc362",
   "metadata": {},
   "outputs": [],
   "source": [
    "my_linspace=np.linspace(0,30,11,retstep=True)"
   ]
  },
  {
   "cell_type": "code",
   "execution_count": 19,
   "id": "385ba0f1",
   "metadata": {},
   "outputs": [
    {
     "data": {
      "text/plain": [
       "(array([ 0.,  3.,  6.,  9., 12., 15., 18., 21., 24., 27., 30.]), 3.0)"
      ]
     },
     "execution_count": 19,
     "metadata": {},
     "output_type": "execute_result"
    }
   ],
   "source": [
    "my_linspace"
   ]
  },
  {
   "cell_type": "code",
   "execution_count": 20,
   "id": "3e0db4ea",
   "metadata": {},
   "outputs": [
    {
     "data": {
      "text/plain": [
       "3.0"
      ]
     },
     "execution_count": 20,
     "metadata": {},
     "output_type": "execute_result"
    }
   ],
   "source": [
    "my_linspace[1]"
   ]
  },
  {
   "cell_type": "code",
   "execution_count": 21,
   "id": "957a4f5e",
   "metadata": {},
   "outputs": [
    {
     "data": {
      "text/plain": [
       "array([0., 0., 0., 0., 0., 0., 0., 0., 0., 0.])"
      ]
     },
     "execution_count": 21,
     "metadata": {},
     "output_type": "execute_result"
    }
   ],
   "source": [
    "np.zeros(10)"
   ]
  },
  {
   "cell_type": "code",
   "execution_count": 22,
   "id": "8bbf5d65",
   "metadata": {},
   "outputs": [
    {
     "data": {
      "text/plain": [
       "array([1., 1., 1., 1., 1., 1., 1., 1., 1., 1.])"
      ]
     },
     "execution_count": 22,
     "metadata": {},
     "output_type": "execute_result"
    }
   ],
   "source": [
    "np.ones(10)"
   ]
  },
  {
   "cell_type": "code",
   "execution_count": 23,
   "id": "d6fd0ffa",
   "metadata": {},
   "outputs": [
    {
     "data": {
      "text/plain": [
       "array([[0., 0., 0., 0., 0.],\n",
       "       [0., 0., 0., 0., 0.],\n",
       "       [0., 0., 0., 0., 0.],\n",
       "       [0., 0., 0., 0., 0.],\n",
       "       [0., 0., 0., 0., 0.],\n",
       "       [0., 0., 0., 0., 0.],\n",
       "       [0., 0., 0., 0., 0.],\n",
       "       [0., 0., 0., 0., 0.],\n",
       "       [0., 0., 0., 0., 0.],\n",
       "       [0., 0., 0., 0., 0.]])"
      ]
     },
     "execution_count": 23,
     "metadata": {},
     "output_type": "execute_result"
    }
   ],
   "source": [
    "np.zeros((10,5))"
   ]
  },
  {
   "cell_type": "code",
   "execution_count": 24,
   "id": "36324ec3",
   "metadata": {},
   "outputs": [
    {
     "data": {
      "text/plain": [
       "array([[[0., 0., 0.],\n",
       "        [0., 0., 0.],\n",
       "        [0., 0., 0.],\n",
       "        [0., 0., 0.],\n",
       "        [0., 0., 0.]],\n",
       "\n",
       "       [[0., 0., 0.],\n",
       "        [0., 0., 0.],\n",
       "        [0., 0., 0.],\n",
       "        [0., 0., 0.],\n",
       "        [0., 0., 0.]],\n",
       "\n",
       "       [[0., 0., 0.],\n",
       "        [0., 0., 0.],\n",
       "        [0., 0., 0.],\n",
       "        [0., 0., 0.],\n",
       "        [0., 0., 0.]],\n",
       "\n",
       "       [[0., 0., 0.],\n",
       "        [0., 0., 0.],\n",
       "        [0., 0., 0.],\n",
       "        [0., 0., 0.],\n",
       "        [0., 0., 0.]],\n",
       "\n",
       "       [[0., 0., 0.],\n",
       "        [0., 0., 0.],\n",
       "        [0., 0., 0.],\n",
       "        [0., 0., 0.],\n",
       "        [0., 0., 0.]],\n",
       "\n",
       "       [[0., 0., 0.],\n",
       "        [0., 0., 0.],\n",
       "        [0., 0., 0.],\n",
       "        [0., 0., 0.],\n",
       "        [0., 0., 0.]],\n",
       "\n",
       "       [[0., 0., 0.],\n",
       "        [0., 0., 0.],\n",
       "        [0., 0., 0.],\n",
       "        [0., 0., 0.],\n",
       "        [0., 0., 0.]],\n",
       "\n",
       "       [[0., 0., 0.],\n",
       "        [0., 0., 0.],\n",
       "        [0., 0., 0.],\n",
       "        [0., 0., 0.],\n",
       "        [0., 0., 0.]],\n",
       "\n",
       "       [[0., 0., 0.],\n",
       "        [0., 0., 0.],\n",
       "        [0., 0., 0.],\n",
       "        [0., 0., 0.],\n",
       "        [0., 0., 0.]],\n",
       "\n",
       "       [[0., 0., 0.],\n",
       "        [0., 0., 0.],\n",
       "        [0., 0., 0.],\n",
       "        [0., 0., 0.],\n",
       "        [0., 0., 0.]]])"
      ]
     },
     "execution_count": 24,
     "metadata": {},
     "output_type": "execute_result"
    }
   ],
   "source": [
    "np.zeros((10,5,3))"
   ]
  },
  {
   "cell_type": "code",
   "execution_count": 27,
   "id": "c62bbdd8",
   "metadata": {},
   "outputs": [
    {
     "data": {
      "text/plain": [
       "array(['', '', '', '', '', '', '', '', '', '', ''], dtype='<U1')"
      ]
     },
     "execution_count": 27,
     "metadata": {},
     "output_type": "execute_result"
    }
   ],
   "source": [
    "np.zeros(11,dtype='str')"
   ]
  },
  {
   "cell_type": "code",
   "execution_count": 28,
   "id": "fbfd130c",
   "metadata": {},
   "outputs": [
    {
     "data": {
      "text/plain": [
       "array([0, 0, 0, 0, 0, 0, 0, 0, 0, 0, 0], dtype=int64)"
      ]
     },
     "execution_count": 28,
     "metadata": {},
     "output_type": "execute_result"
    }
   ],
   "source": [
    "np.zeros(11,dtype='int64')"
   ]
  },
  {
   "cell_type": "code",
   "execution_count": 29,
   "id": "ecd1d584",
   "metadata": {},
   "outputs": [],
   "source": [
    "ave_vector=np.array([4,8,15,16,23,42])"
   ]
  },
  {
   "cell_type": "code",
   "execution_count": 30,
   "id": "259e78fc",
   "metadata": {},
   "outputs": [
    {
     "data": {
      "text/plain": [
       "array([ 4,  8, 15, 16, 23, 42])"
      ]
     },
     "execution_count": 30,
     "metadata": {},
     "output_type": "execute_result"
    }
   ],
   "source": [
    "ave_vector"
   ]
  },
  {
   "cell_type": "code",
   "execution_count": 31,
   "id": "b74620c6",
   "metadata": {},
   "outputs": [
    {
     "data": {
      "text/plain": [
       "8"
      ]
     },
     "execution_count": 31,
     "metadata": {},
     "output_type": "execute_result"
    }
   ],
   "source": [
    "ave_vector[1]"
   ]
  },
  {
   "cell_type": "code",
   "execution_count": 32,
   "id": "d546337c",
   "metadata": {},
   "outputs": [
    {
     "data": {
      "text/plain": [
       "42"
      ]
     },
     "execution_count": 32,
     "metadata": {},
     "output_type": "execute_result"
    }
   ],
   "source": [
    "ave_vector[-1]"
   ]
  },
  {
   "cell_type": "code",
   "execution_count": 33,
   "id": "9a3b4539",
   "metadata": {},
   "outputs": [
    {
     "data": {
      "text/plain": [
       "16"
      ]
     },
     "execution_count": 33,
     "metadata": {},
     "output_type": "execute_result"
    }
   ],
   "source": [
    "ave_vector[-3]"
   ]
  },
  {
   "cell_type": "code",
   "execution_count": 34,
   "id": "2b95a0a2",
   "metadata": {},
   "outputs": [],
   "source": [
    "ave_vector[1]=14"
   ]
  },
  {
   "cell_type": "code",
   "execution_count": 35,
   "id": "5b8f256a",
   "metadata": {},
   "outputs": [
    {
     "data": {
      "text/plain": [
       "array([ 4, 14, 15, 16, 23, 42])"
      ]
     },
     "execution_count": 35,
     "metadata": {},
     "output_type": "execute_result"
    }
   ],
   "source": [
    "ave_vector"
   ]
  },
  {
   "cell_type": "code",
   "execution_count": 36,
   "id": "20c376da",
   "metadata": {},
   "outputs": [],
   "source": [
    "ave_array=np.arange(35)"
   ]
  },
  {
   "cell_type": "code",
   "execution_count": 37,
   "id": "13e78ac5",
   "metadata": {},
   "outputs": [
    {
     "data": {
      "text/plain": [
       "array([ 0,  1,  2,  3,  4,  5,  6,  7,  8,  9, 10, 11, 12, 13, 14, 15, 16,\n",
       "       17, 18, 19, 20, 21, 22, 23, 24, 25, 26, 27, 28, 29, 30, 31, 32, 33,\n",
       "       34])"
      ]
     },
     "execution_count": 37,
     "metadata": {},
     "output_type": "execute_result"
    }
   ],
   "source": [
    "ave_array"
   ]
  },
  {
   "cell_type": "code",
   "execution_count": 38,
   "id": "82adf6cb",
   "metadata": {},
   "outputs": [],
   "source": [
    "ave_array.shape=(7,5)"
   ]
  },
  {
   "cell_type": "code",
   "execution_count": 39,
   "id": "5ad40299",
   "metadata": {},
   "outputs": [
    {
     "data": {
      "text/plain": [
       "array([[ 0,  1,  2,  3,  4],\n",
       "       [ 5,  6,  7,  8,  9],\n",
       "       [10, 11, 12, 13, 14],\n",
       "       [15, 16, 17, 18, 19],\n",
       "       [20, 21, 22, 23, 24],\n",
       "       [25, 26, 27, 28, 29],\n",
       "       [30, 31, 32, 33, 34]])"
      ]
     },
     "execution_count": 39,
     "metadata": {},
     "output_type": "execute_result"
    }
   ],
   "source": [
    "ave_array"
   ]
  },
  {
   "cell_type": "code",
   "execution_count": 40,
   "id": "1a053e86",
   "metadata": {},
   "outputs": [
    {
     "data": {
      "text/plain": [
       "array([5, 6, 7, 8, 9])"
      ]
     },
     "execution_count": 40,
     "metadata": {},
     "output_type": "execute_result"
    }
   ],
   "source": [
    "ave_array[1]"
   ]
  },
  {
   "cell_type": "code",
   "execution_count": 41,
   "id": "c5d9efa2",
   "metadata": {},
   "outputs": [
    {
     "data": {
      "text/plain": [
       "array([30, 31, 32, 33, 34])"
      ]
     },
     "execution_count": 41,
     "metadata": {},
     "output_type": "execute_result"
    }
   ],
   "source": [
    "ave_array[-1]"
   ]
  },
  {
   "cell_type": "code",
   "execution_count": 42,
   "id": "47d63121",
   "metadata": {},
   "outputs": [
    {
     "data": {
      "text/plain": [
       "27"
      ]
     },
     "execution_count": 42,
     "metadata": {},
     "output_type": "execute_result"
    }
   ],
   "source": [
    "ave_array[5,2]#row,column"
   ]
  },
  {
   "cell_type": "code",
   "execution_count": 43,
   "id": "259572cf",
   "metadata": {},
   "outputs": [
    {
     "data": {
      "text/plain": [
       "27"
      ]
     },
     "execution_count": 43,
     "metadata": {},
     "output_type": "execute_result"
    }
   ],
   "source": [
    "row=5\n",
    "column=2\n",
    "ave_array[row,column]"
   ]
  },
  {
   "cell_type": "code",
   "execution_count": 44,
   "id": "17909f4e",
   "metadata": {},
   "outputs": [],
   "source": [
    "ave_3D_array=np.arange(70)"
   ]
  },
  {
   "cell_type": "code",
   "execution_count": 45,
   "id": "9890d440",
   "metadata": {},
   "outputs": [],
   "source": [
    "ave_3D_array.shape=(2,7,5)"
   ]
  },
  {
   "cell_type": "code",
   "execution_count": 46,
   "id": "4fa8b584",
   "metadata": {},
   "outputs": [
    {
     "data": {
      "text/plain": [
       "array([[[ 0,  1,  2,  3,  4],\n",
       "        [ 5,  6,  7,  8,  9],\n",
       "        [10, 11, 12, 13, 14],\n",
       "        [15, 16, 17, 18, 19],\n",
       "        [20, 21, 22, 23, 24],\n",
       "        [25, 26, 27, 28, 29],\n",
       "        [30, 31, 32, 33, 34]],\n",
       "\n",
       "       [[35, 36, 37, 38, 39],\n",
       "        [40, 41, 42, 43, 44],\n",
       "        [45, 46, 47, 48, 49],\n",
       "        [50, 51, 52, 53, 54],\n",
       "        [55, 56, 57, 58, 59],\n",
       "        [60, 61, 62, 63, 64],\n",
       "        [65, 66, 67, 68, 69]]])"
      ]
     },
     "execution_count": 46,
     "metadata": {},
     "output_type": "execute_result"
    }
   ],
   "source": [
    "ave_3D_array"
   ]
  },
  {
   "cell_type": "code",
   "execution_count": 47,
   "id": "b5a174cf",
   "metadata": {},
   "outputs": [
    {
     "data": {
      "text/plain": [
       "array([[[-10,  -5,   0,   5,  10],\n",
       "        [ 15,  20,  25,  30,  35],\n",
       "        [ 40,  45,  50,  55,  60],\n",
       "        [ 65,  70,  75,  80,  85],\n",
       "        [ 90,  95, 100, 105, 110],\n",
       "        [115, 120, 125, 130, 135],\n",
       "        [140, 145, 150, 155, 160]],\n",
       "\n",
       "       [[165, 170, 175, 180, 185],\n",
       "        [190, 195, 200, 205, 210],\n",
       "        [215, 220, 225, 230, 235],\n",
       "        [240, 245, 250, 255, 260],\n",
       "        [265, 270, 275, 280, 285],\n",
       "        [290, 295, 300, 305, 310],\n",
       "        [315, 320, 325, 330, 335]]])"
      ]
     },
     "execution_count": 47,
     "metadata": {},
     "output_type": "execute_result"
    }
   ],
   "source": [
    "5*ave_3D_array-10"
   ]
  },
  {
   "cell_type": "code",
   "execution_count": 48,
   "id": "a94a2966",
   "metadata": {},
   "outputs": [],
   "source": [
    "left_math=np.arange(6).reshape((2,3))\n",
    "right_math=np.arange(15).reshape((3,5))"
   ]
  },
  {
   "cell_type": "code",
   "execution_count": 49,
   "id": "66cda83c",
   "metadata": {},
   "outputs": [],
   "source": [
    "dot_product=np.dot(left_math,right_math)"
   ]
  },
  {
   "cell_type": "code",
   "execution_count": 50,
   "id": "cf501185",
   "metadata": {},
   "outputs": [
    {
     "data": {
      "text/plain": [
       "array([[0, 1, 2],\n",
       "       [3, 4, 5]])"
      ]
     },
     "execution_count": 50,
     "metadata": {},
     "output_type": "execute_result"
    }
   ],
   "source": [
    "left_math"
   ]
  },
  {
   "cell_type": "code",
   "execution_count": 51,
   "id": "1369d922",
   "metadata": {},
   "outputs": [
    {
     "data": {
      "text/plain": [
       "array([[ 0,  1,  2,  3,  4],\n",
       "       [ 5,  6,  7,  8,  9],\n",
       "       [10, 11, 12, 13, 14]])"
      ]
     },
     "execution_count": 51,
     "metadata": {},
     "output_type": "execute_result"
    }
   ],
   "source": [
    "right_math"
   ]
  },
  {
   "cell_type": "code",
   "execution_count": 52,
   "id": "c2917770",
   "metadata": {},
   "outputs": [
    {
     "data": {
      "text/plain": [
       "array([[ 25,  28,  31,  34,  37],\n",
       "       [ 70,  82,  94, 106, 118]])"
      ]
     },
     "execution_count": 52,
     "metadata": {},
     "output_type": "execute_result"
    }
   ],
   "source": [
    "dot_product"
   ]
  },
  {
   "cell_type": "code",
   "execution_count": 53,
   "id": "e5a3f649",
   "metadata": {},
   "outputs": [
    {
     "data": {
      "text/plain": [
       "array([[[ 0,  1,  2,  3,  4],\n",
       "        [ 5,  6,  7,  8,  9],\n",
       "        [10, 11, 12, 13, 14],\n",
       "        [15, 16, 17, 18, 19],\n",
       "        [20, 21, 22, 23, 24],\n",
       "        [25, 26, 27, 28, 29],\n",
       "        [30, 31, 32, 33, 34]],\n",
       "\n",
       "       [[35, 36, 37, 38, 39],\n",
       "        [40, 41, 42, 43, 44],\n",
       "        [45, 46, 47, 48, 49],\n",
       "        [50, 51, 52, 53, 54],\n",
       "        [55, 56, 57, 58, 59],\n",
       "        [60, 61, 62, 63, 64],\n",
       "        [65, 66, 67, 68, 69]]])"
      ]
     },
     "execution_count": 53,
     "metadata": {},
     "output_type": "execute_result"
    }
   ],
   "source": [
    "ave_3D_array"
   ]
  },
  {
   "cell_type": "code",
   "execution_count": 55,
   "id": "c9bd920a",
   "metadata": {},
   "outputs": [
    {
     "data": {
      "text/plain": [
       "(2, 7, 5)"
      ]
     },
     "execution_count": 55,
     "metadata": {},
     "output_type": "execute_result"
    }
   ],
   "source": [
    "ave_3D_array.shape"
   ]
  },
  {
   "cell_type": "code",
   "execution_count": 56,
   "id": "137d57a1",
   "metadata": {},
   "outputs": [
    {
     "data": {
      "text/plain": [
       "2415"
      ]
     },
     "execution_count": 56,
     "metadata": {},
     "output_type": "execute_result"
    }
   ],
   "source": [
    "ave_3D_array.sum()"
   ]
  },
  {
   "cell_type": "code",
   "execution_count": 57,
   "id": "b2c941a5",
   "metadata": {},
   "outputs": [
    {
     "data": {
      "text/plain": [
       "array([[105, 112, 119, 126, 133],\n",
       "       [350, 357, 364, 371, 378]])"
      ]
     },
     "execution_count": 57,
     "metadata": {},
     "output_type": "execute_result"
    }
   ],
   "source": [
    "ave_3D_array.sum(axis=1)"
   ]
  },
  {
   "cell_type": "code",
   "execution_count": 58,
   "id": "ff68e457",
   "metadata": {},
   "outputs": [
    {
     "data": {
      "text/plain": [
       "array([[ 35,  37,  39,  41,  43],\n",
       "       [ 45,  47,  49,  51,  53],\n",
       "       [ 55,  57,  59,  61,  63],\n",
       "       [ 65,  67,  69,  71,  73],\n",
       "       [ 75,  77,  79,  81,  83],\n",
       "       [ 85,  87,  89,  91,  93],\n",
       "       [ 95,  97,  99, 101, 103]])"
      ]
     },
     "execution_count": 58,
     "metadata": {},
     "output_type": "execute_result"
    }
   ],
   "source": [
    "ave_3D_array.sum(axis=0)"
   ]
  },
  {
   "cell_type": "code",
   "execution_count": 59,
   "id": "3d033149",
   "metadata": {},
   "outputs": [
    {
     "data": {
      "text/plain": [
       "array([[ 10,  35,  60,  85, 110, 135, 160],\n",
       "       [185, 210, 235, 260, 285, 310, 335]])"
      ]
     },
     "execution_count": 59,
     "metadata": {},
     "output_type": "execute_result"
    }
   ],
   "source": [
    "ave_3D_array.sum(axis=2)"
   ]
  },
  {
   "cell_type": "code",
   "execution_count": 60,
   "id": "fdf685b1",
   "metadata": {},
   "outputs": [],
   "source": [
    "ave_2D_array=np.ones(35,dtype='int_').reshape((7,5))*5"
   ]
  },
  {
   "cell_type": "code",
   "execution_count": 61,
   "id": "b5e4fee9",
   "metadata": {},
   "outputs": [
    {
     "data": {
      "text/plain": [
       "array([[5, 5, 5, 5, 5],\n",
       "       [5, 5, 5, 5, 5],\n",
       "       [5, 5, 5, 5, 5],\n",
       "       [5, 5, 5, 5, 5],\n",
       "       [5, 5, 5, 5, 5],\n",
       "       [5, 5, 5, 5, 5],\n",
       "       [5, 5, 5, 5, 5]])"
      ]
     },
     "execution_count": 61,
     "metadata": {},
     "output_type": "execute_result"
    }
   ],
   "source": [
    "ave_2D_array"
   ]
  },
  {
   "cell_type": "code",
   "execution_count": 62,
   "id": "5dad3fee",
   "metadata": {},
   "outputs": [],
   "source": [
    "ave_random_2D_array=np.random.random((7,5))"
   ]
  },
  {
   "cell_type": "code",
   "execution_count": 63,
   "id": "91e9be5a",
   "metadata": {},
   "outputs": [
    {
     "data": {
      "text/plain": [
       "array([[[ 0.    ,  0.5656,  1.2542,  0.3339,  1.9925],\n",
       "        [ 2.4548,  1.155 ,  4.5701,  7.6328,  7.8212],\n",
       "        [ 4.4129,  3.9962,  1.6258,  5.2677,  5.2623],\n",
       "        [ 4.6713,  2.1626, 12.9212, 11.3309,  0.3629],\n",
       "        [ 1.9358,  5.5107,  2.2441, 20.2225,  2.9281],\n",
       "        [14.1924, 25.0493, 21.0792, 20.9457, 10.2662],\n",
       "        [18.6013, 10.5083, 19.926 , 13.1367, 30.6838]],\n",
       "\n",
       "       [[29.385 , 20.3623, 23.2035,  4.2299, 19.4273],\n",
       "        [19.638 ,  7.8923, 27.4205, 41.0265, 38.2371],\n",
       "        [19.8579, 16.7116,  6.3678, 19.45  , 18.4179],\n",
       "        [15.5711,  6.8932, 39.5238, 33.3632,  1.0313],\n",
       "        [ 5.3235, 14.6952,  5.8143, 50.9959,  7.1981],\n",
       "        [34.0616, 58.7695, 48.4042, 47.1279, 22.6564],\n",
       "        [40.3027, 22.3724, 41.72  , 27.0696, 62.2701]]])"
      ]
     },
     "execution_count": 63,
     "metadata": {},
     "output_type": "execute_result"
    }
   ],
   "source": [
    "np.set_printoptions(precision=4)\n",
    "ave_3D_array*ave_random_2D_array"
   ]
  },
  {
   "cell_type": "code",
   "execution_count": 64,
   "id": "987074a6",
   "metadata": {},
   "outputs": [],
   "source": [
    "ave_vector=np.arange(5)*7"
   ]
  },
  {
   "cell_type": "code",
   "execution_count": 65,
   "id": "6f2b561e",
   "metadata": {},
   "outputs": [],
   "source": [
    "ave_vector[0]=-1"
   ]
  },
  {
   "cell_type": "code",
   "execution_count": 66,
   "id": "d816ce13",
   "metadata": {},
   "outputs": [
    {
     "data": {
      "text/plain": [
       "array([-1,  7, 14, 21, 28])"
      ]
     },
     "execution_count": 66,
     "metadata": {},
     "output_type": "execute_result"
    }
   ],
   "source": [
    "ave_vector"
   ]
  },
  {
   "cell_type": "code",
   "execution_count": 67,
   "id": "670d4a88",
   "metadata": {},
   "outputs": [
    {
     "data": {
      "text/plain": [
       "array([[[ -0.    ,   0.1429,   0.1429,   0.1429,   0.1429],\n",
       "        [ -5.    ,   0.8571,   0.5   ,   0.381 ,   0.3214],\n",
       "        [-10.    ,   1.5714,   0.8571,   0.619 ,   0.5   ],\n",
       "        [-15.    ,   2.2857,   1.2143,   0.8571,   0.6786],\n",
       "        [-20.    ,   3.    ,   1.5714,   1.0952,   0.8571],\n",
       "        [-25.    ,   3.7143,   1.9286,   1.3333,   1.0357],\n",
       "        [-30.    ,   4.4286,   2.2857,   1.5714,   1.2143]],\n",
       "\n",
       "       [[-35.    ,   5.1429,   2.6429,   1.8095,   1.3929],\n",
       "        [-40.    ,   5.8571,   3.    ,   2.0476,   1.5714],\n",
       "        [-45.    ,   6.5714,   3.3571,   2.2857,   1.75  ],\n",
       "        [-50.    ,   7.2857,   3.7143,   2.5238,   1.9286],\n",
       "        [-55.    ,   8.    ,   4.0714,   2.7619,   2.1071],\n",
       "        [-60.    ,   8.7143,   4.4286,   3.    ,   2.2857],\n",
       "        [-65.    ,   9.4286,   4.7857,   3.2381,   2.4643]]])"
      ]
     },
     "execution_count": 67,
     "metadata": {},
     "output_type": "execute_result"
    }
   ],
   "source": [
    "ave_3D_array/ave_vector"
   ]
  },
  {
   "cell_type": "code",
   "execution_count": 68,
   "id": "631d61c7",
   "metadata": {},
   "outputs": [],
   "source": [
    "employee_data_def=[('name','S6'),('height','f8'),('weight','f8'),('age','i8')]"
   ]
  },
  {
   "cell_type": "code",
   "execution_count": 69,
   "id": "a7a25f17",
   "metadata": {},
   "outputs": [
    {
     "data": {
      "text/plain": [
       "[('name', 'S6'), ('height', 'f8'), ('weight', 'f8'), ('age', 'i8')]"
      ]
     },
     "execution_count": 69,
     "metadata": {},
     "output_type": "execute_result"
    }
   ],
   "source": [
    "employee_data_def"
   ]
  },
  {
   "cell_type": "code",
   "execution_count": 74,
   "id": "c0ee7433",
   "metadata": {},
   "outputs": [],
   "source": [
    "employees_array = np.zeros((4),dtype=employee_data_def)\n"
   ]
  },
  {
   "cell_type": "code",
   "execution_count": 75,
   "id": "02118252",
   "metadata": {},
   "outputs": [
    {
     "data": {
      "text/plain": [
       "array([(b'', 0., 0., 0), (b'', 0., 0., 0), (b'', 0., 0., 0),\n",
       "       (b'', 0., 0., 0)],\n",
       "      dtype=[('name', 'S6'), ('height', '<f8'), ('weight', '<f8'), ('age', '<i8')])"
      ]
     },
     "execution_count": 75,
     "metadata": {},
     "output_type": "execute_result"
    }
   ],
   "source": [
    "employees_array"
   ]
  },
  {
   "cell_type": "code",
   "execution_count": 76,
   "id": "439b3abf",
   "metadata": {},
   "outputs": [],
   "source": [
    "employees_array[3]=('Donatello',200,100,105)"
   ]
  },
  {
   "cell_type": "code",
   "execution_count": 77,
   "id": "a000e0e4",
   "metadata": {},
   "outputs": [],
   "source": [
    "employees_array[0]=('Raphael',198,96,106)"
   ]
  },
  {
   "cell_type": "code",
   "execution_count": 78,
   "id": "af8d9eb3",
   "metadata": {},
   "outputs": [
    {
     "data": {
      "text/plain": [
       "array([(b'Raphae', 198.,  96., 106), (b'',   0.,   0.,   0),\n",
       "       (b'',   0.,   0.,   0), (b'Donate', 200., 100., 105)],\n",
       "      dtype=[('name', 'S6'), ('height', '<f8'), ('weight', '<f8'), ('age', '<i8')])"
      ]
     },
     "execution_count": 78,
     "metadata": {},
     "output_type": "execute_result"
    }
   ],
   "source": [
    "employees_array"
   ]
  },
  {
   "cell_type": "code",
   "execution_count": 79,
   "id": "d8dfa0fd",
   "metadata": {},
   "outputs": [
    {
     "data": {
      "text/plain": [
       "array([(b'Raphae', 198.,  96., 106), (b'',   0.,   0.,   0),\n",
       "       (b'',   0.,   0.,   0), (b'Donate', 200., 100., 105)],\n",
       "      dtype=[('name', 'S6'), ('height', '<f8'), ('weight', '<f8'), ('age', '<i8')])"
      ]
     },
     "execution_count": 79,
     "metadata": {},
     "output_type": "execute_result"
    }
   ],
   "source": [
    "employees_array[0:]"
   ]
  },
  {
   "cell_type": "code",
   "execution_count": 80,
   "id": "b2c5350f",
   "metadata": {},
   "outputs": [
    {
     "data": {
      "text/plain": [
       "array([(b'',   0.,   0.,   0), (b'',   0.,   0.,   0),\n",
       "       (b'Donate', 200., 100., 105)],\n",
       "      dtype=[('name', 'S6'), ('height', '<f8'), ('weight', '<f8'), ('age', '<i8')])"
      ]
     },
     "execution_count": 80,
     "metadata": {},
     "output_type": "execute_result"
    }
   ],
   "source": [
    "employees_array[1:]"
   ]
  },
  {
   "cell_type": "code",
   "execution_count": 81,
   "id": "b2285b4d",
   "metadata": {},
   "outputs": [],
   "source": [
    "ages=employees_array['age']"
   ]
  },
  {
   "cell_type": "code",
   "execution_count": 82,
   "id": "e3f8e3c8",
   "metadata": {},
   "outputs": [
    {
     "data": {
      "text/plain": [
       "array([106,   0,   0, 105], dtype=int64)"
      ]
     },
     "execution_count": 82,
     "metadata": {},
     "output_type": "execute_result"
    }
   ],
   "source": [
    "ages"
   ]
  },
  {
   "cell_type": "code",
   "execution_count": 84,
   "id": "29ac16bf",
   "metadata": {},
   "outputs": [],
   "source": [
    "company_employees_all=np.zeros((4,3,2), dtype=employee_data_def)"
   ]
  },
  {
   "cell_type": "code",
   "execution_count": 85,
   "id": "fe40e32b",
   "metadata": {},
   "outputs": [
    {
     "data": {
      "text/plain": [
       "array([[[(b'', 0., 0., 0), (b'', 0., 0., 0)],\n",
       "        [(b'', 0., 0., 0), (b'', 0., 0., 0)],\n",
       "        [(b'', 0., 0., 0), (b'', 0., 0., 0)]],\n",
       "\n",
       "       [[(b'', 0., 0., 0), (b'', 0., 0., 0)],\n",
       "        [(b'', 0., 0., 0), (b'', 0., 0., 0)],\n",
       "        [(b'', 0., 0., 0), (b'', 0., 0., 0)]],\n",
       "\n",
       "       [[(b'', 0., 0., 0), (b'', 0., 0., 0)],\n",
       "        [(b'', 0., 0., 0), (b'', 0., 0., 0)],\n",
       "        [(b'', 0., 0., 0), (b'', 0., 0., 0)]],\n",
       "\n",
       "       [[(b'', 0., 0., 0), (b'', 0., 0., 0)],\n",
       "        [(b'', 0., 0., 0), (b'', 0., 0., 0)],\n",
       "        [(b'', 0., 0., 0), (b'', 0., 0., 0)]]],\n",
       "      dtype=[('name', 'S6'), ('height', '<f8'), ('weight', '<f8'), ('age', '<i8')])"
      ]
     },
     "execution_count": 85,
     "metadata": {},
     "output_type": "execute_result"
    }
   ],
   "source": [
    "company_employees_all"
   ]
  },
  {
   "cell_type": "code",
   "execution_count": 86,
   "id": "485f5668",
   "metadata": {},
   "outputs": [],
   "source": [
    "company_employees_all[3,2,1]=('Pipin', 90, 120, 98)"
   ]
  },
  {
   "cell_type": "code",
   "execution_count": 87,
   "id": "6258d087",
   "metadata": {},
   "outputs": [
    {
     "data": {
      "text/plain": [
       "array([[[(b'',  0.,   0.,  0), (b'',  0.,   0.,  0)],\n",
       "        [(b'',  0.,   0.,  0), (b'',  0.,   0.,  0)],\n",
       "        [(b'',  0.,   0.,  0), (b'',  0.,   0.,  0)]],\n",
       "\n",
       "       [[(b'',  0.,   0.,  0), (b'',  0.,   0.,  0)],\n",
       "        [(b'',  0.,   0.,  0), (b'',  0.,   0.,  0)],\n",
       "        [(b'',  0.,   0.,  0), (b'',  0.,   0.,  0)]],\n",
       "\n",
       "       [[(b'',  0.,   0.,  0), (b'',  0.,   0.,  0)],\n",
       "        [(b'',  0.,   0.,  0), (b'',  0.,   0.,  0)],\n",
       "        [(b'',  0.,   0.,  0), (b'',  0.,   0.,  0)]],\n",
       "\n",
       "       [[(b'',  0.,   0.,  0), (b'',  0.,   0.,  0)],\n",
       "        [(b'',  0.,   0.,  0), (b'',  0.,   0.,  0)],\n",
       "        [(b'',  0.,   0.,  0), (b'Pipin', 90., 120., 98)]]],\n",
       "      dtype=[('name', 'S6'), ('height', '<f8'), ('weight', '<f8'), ('age', '<i8')])"
      ]
     },
     "execution_count": 87,
     "metadata": {},
     "output_type": "execute_result"
    }
   ],
   "source": [
    "company_employees_all"
   ]
  },
  {
   "cell_type": "code",
   "execution_count": 88,
   "id": "ee687d7f",
   "metadata": {},
   "outputs": [
    {
     "data": {
      "text/plain": [
       "array([[[ 0.,  0.],\n",
       "        [ 0.,  0.],\n",
       "        [ 0.,  0.]],\n",
       "\n",
       "       [[ 0.,  0.],\n",
       "        [ 0.,  0.],\n",
       "        [ 0.,  0.]],\n",
       "\n",
       "       [[ 0.,  0.],\n",
       "        [ 0.,  0.],\n",
       "        [ 0.,  0.]],\n",
       "\n",
       "       [[ 0.,  0.],\n",
       "        [ 0.,  0.],\n",
       "        [ 0., 90.]]])"
      ]
     },
     "execution_count": 88,
     "metadata": {},
     "output_type": "execute_result"
    }
   ],
   "source": [
    "company_employees_all['height']"
   ]
  },
  {
   "cell_type": "code",
   "execution_count": 90,
   "id": "37331a0f",
   "metadata": {},
   "outputs": [
    {
     "data": {
      "text/plain": [
       "array([[[( 0.,   0.), ( 0.,   0.)],\n",
       "        [( 0.,   0.), ( 0.,   0.)],\n",
       "        [( 0.,   0.), ( 0.,   0.)]],\n",
       "\n",
       "       [[( 0.,   0.), ( 0.,   0.)],\n",
       "        [( 0.,   0.), ( 0.,   0.)],\n",
       "        [( 0.,   0.), ( 0.,   0.)]],\n",
       "\n",
       "       [[( 0.,   0.), ( 0.,   0.)],\n",
       "        [( 0.,   0.), ( 0.,   0.)],\n",
       "        [( 0.,   0.), ( 0.,   0.)]],\n",
       "\n",
       "       [[( 0.,   0.), ( 0.,   0.)],\n",
       "        [( 0.,   0.), ( 0.,   0.)],\n",
       "        [( 0.,   0.), (90., 120.)]]],\n",
       "      dtype={'names':['height','weight'], 'formats':['<f8','<f8'], 'offsets':[6,14], 'itemsize':30})"
      ]
     },
     "execution_count": 90,
     "metadata": {},
     "output_type": "execute_result"
    }
   ],
   "source": [
    "company_employees_all[['height','weight']]"
   ]
  },
  {
   "cell_type": "code",
   "execution_count": 91,
   "id": "fd04d017",
   "metadata": {},
   "outputs": [],
   "source": [
    "ave_array=(np.arange(24)).reshape(2,3,4)"
   ]
  },
  {
   "cell_type": "code",
   "execution_count": 92,
   "id": "6001cd7e",
   "metadata": {},
   "outputs": [
    {
     "data": {
      "text/plain": [
       "array([[[ 0,  1,  2,  3],\n",
       "        [ 4,  5,  6,  7],\n",
       "        [ 8,  9, 10, 11]],\n",
       "\n",
       "       [[12, 13, 14, 15],\n",
       "        [16, 17, 18, 19],\n",
       "        [20, 21, 22, 23]]])"
      ]
     },
     "execution_count": 92,
     "metadata": {},
     "output_type": "execute_result"
    }
   ],
   "source": [
    "ave_array"
   ]
  },
  {
   "cell_type": "code",
   "execution_count": 93,
   "id": "f298c0ca",
   "metadata": {},
   "outputs": [],
   "source": [
    "trial_ave_array=np.append(ave_array, [5,6,7,8])"
   ]
  },
  {
   "cell_type": "code",
   "execution_count": 94,
   "id": "61ffb3c3",
   "metadata": {},
   "outputs": [
    {
     "data": {
      "text/plain": [
       "array([ 0,  1,  2,  3,  4,  5,  6,  7,  8,  9, 10, 11, 12, 13, 14, 15, 16,\n",
       "       17, 18, 19, 20, 21, 22, 23,  5,  6,  7,  8])"
      ]
     },
     "execution_count": 94,
     "metadata": {},
     "output_type": "execute_result"
    }
   ],
   "source": [
    "trial_ave_array"
   ]
  },
  {
   "cell_type": "code",
   "execution_count": 95,
   "id": "ee0b7257",
   "metadata": {},
   "outputs": [
    {
     "data": {
      "text/plain": [
       "array([[ 0,  1,  2,  3],\n",
       "       [ 4,  5,  6,  7],\n",
       "       [ 8,  9, 10, 11],\n",
       "       [12, 13, 14, 15],\n",
       "       [16, 17, 18, 19],\n",
       "       [20, 21, 22, 23],\n",
       "       [ 5,  6,  7,  8]])"
      ]
     },
     "execution_count": 95,
     "metadata": {},
     "output_type": "execute_result"
    }
   ],
   "source": [
    "trial_ave_array.reshape((7,4))"
   ]
  },
  {
   "cell_type": "code",
   "execution_count": 96,
   "id": "a8bdb3ef",
   "metadata": {},
   "outputs": [],
   "source": [
    "new_trial_array=np.array(np.arange(24)).reshape(2,3,4)*10+5"
   ]
  },
  {
   "cell_type": "code",
   "execution_count": 97,
   "id": "f92109a1",
   "metadata": {},
   "outputs": [
    {
     "data": {
      "text/plain": [
       "array([[[  5,  15,  25,  35],\n",
       "        [ 45,  55,  65,  75],\n",
       "        [ 85,  95, 105, 115]],\n",
       "\n",
       "       [[125, 135, 145, 155],\n",
       "        [165, 175, 185, 195],\n",
       "        [205, 215, 225, 235]]])"
      ]
     },
     "execution_count": 97,
     "metadata": {},
     "output_type": "execute_result"
    }
   ],
   "source": [
    "new_trial_array"
   ]
  },
  {
   "cell_type": "code",
   "execution_count": 99,
   "id": "c01c1463",
   "metadata": {},
   "outputs": [
    {
     "data": {
      "text/plain": [
       "array([[[  0,   1,   2,   3],\n",
       "        [  4,   5,   6,   7],\n",
       "        [  8,   9,  10,  11]],\n",
       "\n",
       "       [[ 12,  13,  14,  15],\n",
       "        [ 16,  17,  18,  19],\n",
       "        [ 20,  21,  22,  23]],\n",
       "\n",
       "       [[  5,  15,  25,  35],\n",
       "        [ 45,  55,  65,  75],\n",
       "        [ 85,  95, 105, 115]],\n",
       "\n",
       "       [[125, 135, 145, 155],\n",
       "        [165, 175, 185, 195],\n",
       "        [205, 215, 225, 235]]])"
      ]
     },
     "execution_count": 99,
     "metadata": {},
     "output_type": "execute_result"
    }
   ],
   "source": [
    "np.append(ave_array,new_trial_array,axis=0)"
   ]
  },
  {
   "cell_type": "code",
   "execution_count": 101,
   "id": "81e76362",
   "metadata": {},
   "outputs": [
    {
     "data": {
      "text/plain": [
       "(4, 3, 4)"
      ]
     },
     "execution_count": 101,
     "metadata": {},
     "output_type": "execute_result"
    }
   ],
   "source": [
    "np.append(ave_array,new_trial_array,axis=0).shape"
   ]
  },
  {
   "cell_type": "code",
   "execution_count": 100,
   "id": "360a41a4",
   "metadata": {},
   "outputs": [
    {
     "data": {
      "text/plain": [
       "array([[[  0,   1,   2,   3],\n",
       "        [  4,   5,   6,   7],\n",
       "        [  8,   9,  10,  11],\n",
       "        [  5,  15,  25,  35],\n",
       "        [ 45,  55,  65,  75],\n",
       "        [ 85,  95, 105, 115]],\n",
       "\n",
       "       [[ 12,  13,  14,  15],\n",
       "        [ 16,  17,  18,  19],\n",
       "        [ 20,  21,  22,  23],\n",
       "        [125, 135, 145, 155],\n",
       "        [165, 175, 185, 195],\n",
       "        [205, 215, 225, 235]]])"
      ]
     },
     "execution_count": 100,
     "metadata": {},
     "output_type": "execute_result"
    }
   ],
   "source": [
    "np.append(ave_array,new_trial_array,axis=1)"
   ]
  },
  {
   "cell_type": "code",
   "execution_count": 102,
   "id": "9fbf0d20",
   "metadata": {},
   "outputs": [
    {
     "data": {
      "text/plain": [
       "(2, 6, 4)"
      ]
     },
     "execution_count": 102,
     "metadata": {},
     "output_type": "execute_result"
    }
   ],
   "source": [
    "np.append(ave_array,new_trial_array,axis=1).shape"
   ]
  },
  {
   "cell_type": "code",
   "execution_count": 103,
   "id": "b46585fc",
   "metadata": {},
   "outputs": [],
   "source": [
    "ave_stack=np.hstack((ave_array,new_trial_array))"
   ]
  },
  {
   "cell_type": "code",
   "execution_count": 104,
   "id": "51815840",
   "metadata": {},
   "outputs": [
    {
     "data": {
      "text/plain": [
       "array([[[  0,   1,   2,   3],\n",
       "        [  4,   5,   6,   7],\n",
       "        [  8,   9,  10,  11],\n",
       "        [  5,  15,  25,  35],\n",
       "        [ 45,  55,  65,  75],\n",
       "        [ 85,  95, 105, 115]],\n",
       "\n",
       "       [[ 12,  13,  14,  15],\n",
       "        [ 16,  17,  18,  19],\n",
       "        [ 20,  21,  22,  23],\n",
       "        [125, 135, 145, 155],\n",
       "        [165, 175, 185, 195],\n",
       "        [205, 215, 225, 235]]])"
      ]
     },
     "execution_count": 104,
     "metadata": {},
     "output_type": "execute_result"
    }
   ],
   "source": [
    "ave_stack"
   ]
  },
  {
   "cell_type": "code",
   "execution_count": 105,
   "id": "a44b4c68",
   "metadata": {},
   "outputs": [],
   "source": [
    "ave_stack=np.vstack((ave_array,new_trial_array))"
   ]
  },
  {
   "cell_type": "code",
   "execution_count": 106,
   "id": "fb8623dc",
   "metadata": {},
   "outputs": [
    {
     "data": {
      "text/plain": [
       "array([[[  0,   1,   2,   3],\n",
       "        [  4,   5,   6,   7],\n",
       "        [  8,   9,  10,  11]],\n",
       "\n",
       "       [[ 12,  13,  14,  15],\n",
       "        [ 16,  17,  18,  19],\n",
       "        [ 20,  21,  22,  23]],\n",
       "\n",
       "       [[  5,  15,  25,  35],\n",
       "        [ 45,  55,  65,  75],\n",
       "        [ 85,  95, 105, 115]],\n",
       "\n",
       "       [[125, 135, 145, 155],\n",
       "        [165, 175, 185, 195],\n",
       "        [205, 215, 225, 235]]])"
      ]
     },
     "execution_count": 106,
     "metadata": {},
     "output_type": "execute_result"
    }
   ],
   "source": [
    "ave_stack"
   ]
  },
  {
   "cell_type": "code",
   "execution_count": 107,
   "id": "269d47fa",
   "metadata": {},
   "outputs": [
    {
     "data": {
      "text/plain": [
       "array([[[ 0,  1,  2,  3],\n",
       "        [ 4,  5,  6,  7],\n",
       "        [ 8,  9, 10, 11]],\n",
       "\n",
       "       [[12, 13, 14, 15],\n",
       "        [16, 17, 18, 19],\n",
       "        [20, 21, 22, 23]]])"
      ]
     },
     "execution_count": 107,
     "metadata": {},
     "output_type": "execute_result"
    }
   ],
   "source": [
    "ave_array"
   ]
  },
  {
   "cell_type": "code",
   "execution_count": 108,
   "id": "219b913d",
   "metadata": {},
   "outputs": [],
   "source": [
    "insert_ave_array=np.insert(ave_array,1,666,axis=0)"
   ]
  },
  {
   "cell_type": "code",
   "execution_count": 109,
   "id": "c177838d",
   "metadata": {},
   "outputs": [
    {
     "data": {
      "text/plain": [
       "array([[[  0,   1,   2,   3],\n",
       "        [  4,   5,   6,   7],\n",
       "        [  8,   9,  10,  11]],\n",
       "\n",
       "       [[666, 666, 666, 666],\n",
       "        [666, 666, 666, 666],\n",
       "        [666, 666, 666, 666]],\n",
       "\n",
       "       [[ 12,  13,  14,  15],\n",
       "        [ 16,  17,  18,  19],\n",
       "        [ 20,  21,  22,  23]]])"
      ]
     },
     "execution_count": 109,
     "metadata": {},
     "output_type": "execute_result"
    }
   ],
   "source": [
    "insert_ave_array"
   ]
  },
  {
   "cell_type": "code",
   "execution_count": 110,
   "id": "b38ea1db",
   "metadata": {},
   "outputs": [],
   "source": [
    "insert_ave_array=np.insert(ave_array,1,666,axis=1)"
   ]
  },
  {
   "cell_type": "code",
   "execution_count": 111,
   "id": "08354c70",
   "metadata": {},
   "outputs": [
    {
     "data": {
      "text/plain": [
       "array([[[  0,   1,   2,   3],\n",
       "        [666, 666, 666, 666],\n",
       "        [  4,   5,   6,   7],\n",
       "        [  8,   9,  10,  11]],\n",
       "\n",
       "       [[ 12,  13,  14,  15],\n",
       "        [666, 666, 666, 666],\n",
       "        [ 16,  17,  18,  19],\n",
       "        [ 20,  21,  22,  23]]])"
      ]
     },
     "execution_count": 111,
     "metadata": {},
     "output_type": "execute_result"
    }
   ],
   "source": [
    "insert_ave_array"
   ]
  },
  {
   "cell_type": "code",
   "execution_count": 112,
   "id": "bad953bf",
   "metadata": {},
   "outputs": [],
   "source": [
    "insert_ave_array=np.insert(ave_array,1,666,axis=2)"
   ]
  },
  {
   "cell_type": "code",
   "execution_count": 113,
   "id": "6bf800a5",
   "metadata": {},
   "outputs": [
    {
     "data": {
      "text/plain": [
       "array([[[  0, 666,   1,   2,   3],\n",
       "        [  4, 666,   5,   6,   7],\n",
       "        [  8, 666,   9,  10,  11]],\n",
       "\n",
       "       [[ 12, 666,  13,  14,  15],\n",
       "        [ 16, 666,  17,  18,  19],\n",
       "        [ 20, 666,  21,  22,  23]]])"
      ]
     },
     "execution_count": 113,
     "metadata": {},
     "output_type": "execute_result"
    }
   ],
   "source": [
    "insert_ave_array"
   ]
  },
  {
   "cell_type": "code",
   "execution_count": 114,
   "id": "110a0f20",
   "metadata": {},
   "outputs": [],
   "source": [
    "del_array=np.empty(ave_array.shape)"
   ]
  },
  {
   "cell_type": "code",
   "execution_count": 115,
   "id": "7d8a4913",
   "metadata": {},
   "outputs": [],
   "source": [
    "np.copyto(del_array,ave_array)"
   ]
  },
  {
   "cell_type": "code",
   "execution_count": 116,
   "id": "3f4f4dcd",
   "metadata": {},
   "outputs": [
    {
     "data": {
      "text/plain": [
       "array([[[ 0.,  1.,  2.,  3.],\n",
       "        [ 4.,  5.,  6.,  7.],\n",
       "        [ 8.,  9., 10., 11.]],\n",
       "\n",
       "       [[12., 13., 14., 15.],\n",
       "        [16., 17., 18., 19.],\n",
       "        [20., 21., 22., 23.]]])"
      ]
     },
     "execution_count": 116,
     "metadata": {},
     "output_type": "execute_result"
    }
   ],
   "source": [
    "del_array"
   ]
  },
  {
   "cell_type": "code",
   "execution_count": 117,
   "id": "d60b7cdd",
   "metadata": {},
   "outputs": [
    {
     "data": {
      "text/plain": [
       "array([[[ 0.,  1.,  2.,  3.],\n",
       "        [ 4.,  5.,  6.,  7.],\n",
       "        [ 8.,  9., 10., 11.]]])"
      ]
     },
     "execution_count": 117,
     "metadata": {},
     "output_type": "execute_result"
    }
   ],
   "source": [
    "np.delete(del_array,1,axis=0)"
   ]
  },
  {
   "cell_type": "code",
   "execution_count": 118,
   "id": "c2893ce0",
   "metadata": {},
   "outputs": [
    {
     "data": {
      "text/plain": [
       "array([[[12., 13., 14., 15.],\n",
       "        [16., 17., 18., 19.],\n",
       "        [20., 21., 22., 23.]]])"
      ]
     },
     "execution_count": 118,
     "metadata": {},
     "output_type": "execute_result"
    }
   ],
   "source": [
    "np.delete(del_array,0,axis=0)"
   ]
  },
  {
   "cell_type": "code",
   "execution_count": 119,
   "id": "a3f118ae",
   "metadata": {},
   "outputs": [
    {
     "data": {
      "text/plain": [
       "array([[[ 0.,  1.,  2.,  3.],\n",
       "        [ 8.,  9., 10., 11.]],\n",
       "\n",
       "       [[12., 13., 14., 15.],\n",
       "        [20., 21., 22., 23.]]])"
      ]
     },
     "execution_count": 119,
     "metadata": {},
     "output_type": "execute_result"
    }
   ],
   "source": [
    "np.delete(del_array,1,axis=1)"
   ]
  },
  {
   "cell_type": "code",
   "execution_count": 120,
   "id": "660a40be",
   "metadata": {},
   "outputs": [
    {
     "data": {
      "text/plain": [
       "array([[[ 0.,  2.,  3.],\n",
       "        [ 4.,  6.,  7.],\n",
       "        [ 8., 10., 11.]],\n",
       "\n",
       "       [[12., 14., 15.],\n",
       "        [16., 18., 19.],\n",
       "        [20., 22., 23.]]])"
      ]
     },
     "execution_count": 120,
     "metadata": {},
     "output_type": "execute_result"
    }
   ],
   "source": [
    "np.delete(del_array,1,axis=2)"
   ]
  },
  {
   "cell_type": "code",
   "execution_count": 121,
   "id": "9b6f83a1",
   "metadata": {},
   "outputs": [],
   "source": [
    "alpha=np.array([[1,2],[3,4]])\n",
    "beta=np.array([[5,6]])\n"
   ]
  },
  {
   "cell_type": "code",
   "execution_count": 122,
   "id": "c9fc9621",
   "metadata": {},
   "outputs": [
    {
     "data": {
      "text/plain": [
       "array([[1, 2],\n",
       "       [3, 4]])"
      ]
     },
     "execution_count": 122,
     "metadata": {},
     "output_type": "execute_result"
    }
   ],
   "source": [
    "alpha"
   ]
  },
  {
   "cell_type": "code",
   "execution_count": 176,
   "id": "50b661fd",
   "metadata": {},
   "outputs": [
    {
     "data": {
      "text/plain": [
       "array([[5, 6]])"
      ]
     },
     "execution_count": 176,
     "metadata": {},
     "output_type": "execute_result"
    }
   ],
   "source": [
    "beta"
   ]
  },
  {
   "cell_type": "code",
   "execution_count": 125,
   "id": "a4fd25a2",
   "metadata": {},
   "outputs": [],
   "source": [
    "together=np.concatenate((alpha,beta),axis=0)"
   ]
  },
  {
   "cell_type": "code",
   "execution_count": 126,
   "id": "5b7bad39",
   "metadata": {},
   "outputs": [
    {
     "data": {
      "text/plain": [
       "array([[1, 2],\n",
       "       [3, 4],\n",
       "       [5, 6]])"
      ]
     },
     "execution_count": 126,
     "metadata": {},
     "output_type": "execute_result"
    }
   ],
   "source": [
    "together"
   ]
  },
  {
   "cell_type": "code",
   "execution_count": 127,
   "id": "b56535a9",
   "metadata": {},
   "outputs": [
    {
     "data": {
      "text/plain": [
       "(3, 2)"
      ]
     },
     "execution_count": 127,
     "metadata": {},
     "output_type": "execute_result"
    }
   ],
   "source": [
    "together.shape"
   ]
  },
  {
   "cell_type": "code",
   "execution_count": 128,
   "id": "622dbf79",
   "metadata": {},
   "outputs": [],
   "source": [
    "together[1,1]=666"
   ]
  },
  {
   "cell_type": "code",
   "execution_count": 130,
   "id": "d9373a98",
   "metadata": {},
   "outputs": [
    {
     "data": {
      "text/plain": [
       "array([[  1,   2],\n",
       "       [  3, 666],\n",
       "       [  5,   6]])"
      ]
     },
     "execution_count": 130,
     "metadata": {},
     "output_type": "execute_result"
    }
   ],
   "source": [
    "together"
   ]
  },
  {
   "cell_type": "code",
   "execution_count": 132,
   "id": "06300924",
   "metadata": {},
   "outputs": [
    {
     "data": {
      "text/plain": [
       "array([[[-0.385 ,  0.5096,  0.4038, -0.5357],\n",
       "        [ 0.4268, -0.2636,  1.0685, -0.5677],\n",
       "        [-0.5218,  0.1724,  0.3325, -0.869 ]],\n",
       "\n",
       "       [[-0.1104, -0.6816,  0.1935,  0.3189],\n",
       "        [-1.3978,  0.355 ,  0.1039,  0.3192],\n",
       "        [ 0.2116, -0.2139,  0.088 , -0.9849]],\n",
       "\n",
       "       [[-0.1172,  1.2074, -2.2486,  1.019 ],\n",
       "        [ 0.7463, -0.363 ,  0.4369, -0.1412],\n",
       "        [-1.1639, -0.2832, -0.9041,  1.0924]],\n",
       "\n",
       "       [[-0.0156,  0.1888, -0.634 , -0.601 ],\n",
       "        [-0.6835,  0.0655, -0.7067, -1.7648],\n",
       "        [-1.2232,  2.4612,  0.7695,  0.4906]],\n",
       "\n",
       "       [[ 2.9312, -1.0088,  1.6063, -0.4691],\n",
       "        [-1.7289, -0.2698,  0.1064, -0.5068],\n",
       "        [ 0.4028,  2.1152,  0.9622, -0.0221]]])"
      ]
     },
     "execution_count": 132,
     "metadata": {},
     "output_type": "execute_result"
    }
   ],
   "source": [
    "arrays=np.zeros((5,3,4))\n",
    "for n in range(5):\n",
    "    arrays[n]=np.random.randn(3,4)\n",
    "arrays    "
   ]
  },
  {
   "cell_type": "code",
   "execution_count": 133,
   "id": "fae7aa98",
   "metadata": {},
   "outputs": [],
   "source": [
    "stack0=np.stack(arrays,axis=0)\n",
    "stack1=np.stack(arrays,axis=1)\n",
    "stack2=np.stack(arrays,axis=2)"
   ]
  },
  {
   "cell_type": "code",
   "execution_count": 134,
   "id": "0264dd09",
   "metadata": {},
   "outputs": [
    {
     "data": {
      "text/plain": [
       "array([[[-0.385 ,  0.5096,  0.4038, -0.5357],\n",
       "        [ 0.4268, -0.2636,  1.0685, -0.5677],\n",
       "        [-0.5218,  0.1724,  0.3325, -0.869 ]],\n",
       "\n",
       "       [[-0.1104, -0.6816,  0.1935,  0.3189],\n",
       "        [-1.3978,  0.355 ,  0.1039,  0.3192],\n",
       "        [ 0.2116, -0.2139,  0.088 , -0.9849]],\n",
       "\n",
       "       [[-0.1172,  1.2074, -2.2486,  1.019 ],\n",
       "        [ 0.7463, -0.363 ,  0.4369, -0.1412],\n",
       "        [-1.1639, -0.2832, -0.9041,  1.0924]],\n",
       "\n",
       "       [[-0.0156,  0.1888, -0.634 , -0.601 ],\n",
       "        [-0.6835,  0.0655, -0.7067, -1.7648],\n",
       "        [-1.2232,  2.4612,  0.7695,  0.4906]],\n",
       "\n",
       "       [[ 2.9312, -1.0088,  1.6063, -0.4691],\n",
       "        [-1.7289, -0.2698,  0.1064, -0.5068],\n",
       "        [ 0.4028,  2.1152,  0.9622, -0.0221]]])"
      ]
     },
     "execution_count": 134,
     "metadata": {},
     "output_type": "execute_result"
    }
   ],
   "source": [
    "stack0"
   ]
  },
  {
   "cell_type": "code",
   "execution_count": 135,
   "id": "c877acfd",
   "metadata": {},
   "outputs": [
    {
     "data": {
      "text/plain": [
       "array([[[-0.385 ,  0.5096,  0.4038, -0.5357],\n",
       "        [-0.1104, -0.6816,  0.1935,  0.3189],\n",
       "        [-0.1172,  1.2074, -2.2486,  1.019 ],\n",
       "        [-0.0156,  0.1888, -0.634 , -0.601 ],\n",
       "        [ 2.9312, -1.0088,  1.6063, -0.4691]],\n",
       "\n",
       "       [[ 0.4268, -0.2636,  1.0685, -0.5677],\n",
       "        [-1.3978,  0.355 ,  0.1039,  0.3192],\n",
       "        [ 0.7463, -0.363 ,  0.4369, -0.1412],\n",
       "        [-0.6835,  0.0655, -0.7067, -1.7648],\n",
       "        [-1.7289, -0.2698,  0.1064, -0.5068]],\n",
       "\n",
       "       [[-0.5218,  0.1724,  0.3325, -0.869 ],\n",
       "        [ 0.2116, -0.2139,  0.088 , -0.9849],\n",
       "        [-1.1639, -0.2832, -0.9041,  1.0924],\n",
       "        [-1.2232,  2.4612,  0.7695,  0.4906],\n",
       "        [ 0.4028,  2.1152,  0.9622, -0.0221]]])"
      ]
     },
     "execution_count": 135,
     "metadata": {},
     "output_type": "execute_result"
    }
   ],
   "source": [
    "stack1"
   ]
  },
  {
   "cell_type": "code",
   "execution_count": 136,
   "id": "3ea6a3da",
   "metadata": {},
   "outputs": [
    {
     "data": {
      "text/plain": [
       "array([[[-0.385 , -0.1104, -0.1172, -0.0156,  2.9312],\n",
       "        [ 0.5096, -0.6816,  1.2074,  0.1888, -1.0088],\n",
       "        [ 0.4038,  0.1935, -2.2486, -0.634 ,  1.6063],\n",
       "        [-0.5357,  0.3189,  1.019 , -0.601 , -0.4691]],\n",
       "\n",
       "       [[ 0.4268, -1.3978,  0.7463, -0.6835, -1.7289],\n",
       "        [-0.2636,  0.355 , -0.363 ,  0.0655, -0.2698],\n",
       "        [ 1.0685,  0.1039,  0.4369, -0.7067,  0.1064],\n",
       "        [-0.5677,  0.3192, -0.1412, -1.7648, -0.5068]],\n",
       "\n",
       "       [[-0.5218,  0.2116, -1.1639, -1.2232,  0.4028],\n",
       "        [ 0.1724, -0.2139, -0.2832,  2.4612,  2.1152],\n",
       "        [ 0.3325,  0.088 , -0.9041,  0.7695,  0.9622],\n",
       "        [-0.869 , -0.9849,  1.0924,  0.4906, -0.0221]]])"
      ]
     },
     "execution_count": 136,
     "metadata": {},
     "output_type": "execute_result"
    }
   ],
   "source": [
    "stack2"
   ]
  },
  {
   "cell_type": "code",
   "execution_count": 137,
   "id": "6480c161",
   "metadata": {},
   "outputs": [],
   "source": [
    "before_split=stack0"
   ]
  },
  {
   "cell_type": "code",
   "execution_count": 138,
   "id": "46d1d867",
   "metadata": {},
   "outputs": [
    {
     "data": {
      "text/plain": [
       "(5, 3, 4)"
      ]
     },
     "execution_count": 138,
     "metadata": {},
     "output_type": "execute_result"
    }
   ],
   "source": [
    "before_split.shape"
   ]
  },
  {
   "cell_type": "code",
   "execution_count": 139,
   "id": "7f463d26",
   "metadata": {},
   "outputs": [],
   "source": [
    "s0=np.split(before_split,5,axis=0)"
   ]
  },
  {
   "cell_type": "code",
   "execution_count": 140,
   "id": "b3c7aa9e",
   "metadata": {},
   "outputs": [
    {
     "data": {
      "text/plain": [
       "[array([[[-0.385 ,  0.5096,  0.4038, -0.5357],\n",
       "         [ 0.4268, -0.2636,  1.0685, -0.5677],\n",
       "         [-0.5218,  0.1724,  0.3325, -0.869 ]]]),\n",
       " array([[[-0.1104, -0.6816,  0.1935,  0.3189],\n",
       "         [-1.3978,  0.355 ,  0.1039,  0.3192],\n",
       "         [ 0.2116, -0.2139,  0.088 , -0.9849]]]),\n",
       " array([[[-0.1172,  1.2074, -2.2486,  1.019 ],\n",
       "         [ 0.7463, -0.363 ,  0.4369, -0.1412],\n",
       "         [-1.1639, -0.2832, -0.9041,  1.0924]]]),\n",
       " array([[[-0.0156,  0.1888, -0.634 , -0.601 ],\n",
       "         [-0.6835,  0.0655, -0.7067, -1.7648],\n",
       "         [-1.2232,  2.4612,  0.7695,  0.4906]]]),\n",
       " array([[[ 2.9312, -1.0088,  1.6063, -0.4691],\n",
       "         [-1.7289, -0.2698,  0.1064, -0.5068],\n",
       "         [ 0.4028,  2.1152,  0.9622, -0.0221]]])]"
      ]
     },
     "execution_count": 140,
     "metadata": {},
     "output_type": "execute_result"
    }
   ],
   "source": [
    "s0"
   ]
  },
  {
   "cell_type": "code",
   "execution_count": 141,
   "id": "9e006d1f",
   "metadata": {},
   "outputs": [],
   "source": [
    "s1=np.split(before_split,3,axis=1)"
   ]
  },
  {
   "cell_type": "code",
   "execution_count": 142,
   "id": "d5538737",
   "metadata": {},
   "outputs": [
    {
     "data": {
      "text/plain": [
       "[array([[[-0.385 ,  0.5096,  0.4038, -0.5357]],\n",
       " \n",
       "        [[-0.1104, -0.6816,  0.1935,  0.3189]],\n",
       " \n",
       "        [[-0.1172,  1.2074, -2.2486,  1.019 ]],\n",
       " \n",
       "        [[-0.0156,  0.1888, -0.634 , -0.601 ]],\n",
       " \n",
       "        [[ 2.9312, -1.0088,  1.6063, -0.4691]]]),\n",
       " array([[[ 0.4268, -0.2636,  1.0685, -0.5677]],\n",
       " \n",
       "        [[-1.3978,  0.355 ,  0.1039,  0.3192]],\n",
       " \n",
       "        [[ 0.7463, -0.363 ,  0.4369, -0.1412]],\n",
       " \n",
       "        [[-0.6835,  0.0655, -0.7067, -1.7648]],\n",
       " \n",
       "        [[-1.7289, -0.2698,  0.1064, -0.5068]]]),\n",
       " array([[[-0.5218,  0.1724,  0.3325, -0.869 ]],\n",
       " \n",
       "        [[ 0.2116, -0.2139,  0.088 , -0.9849]],\n",
       " \n",
       "        [[-1.1639, -0.2832, -0.9041,  1.0924]],\n",
       " \n",
       "        [[-1.2232,  2.4612,  0.7695,  0.4906]],\n",
       " \n",
       "        [[ 0.4028,  2.1152,  0.9622, -0.0221]]])]"
      ]
     },
     "execution_count": 142,
     "metadata": {},
     "output_type": "execute_result"
    }
   ],
   "source": [
    "s1"
   ]
  },
  {
   "cell_type": "code",
   "execution_count": 143,
   "id": "8936f899",
   "metadata": {},
   "outputs": [],
   "source": [
    "ave_start_array=np.array(np.arange(24))"
   ]
  },
  {
   "cell_type": "code",
   "execution_count": 144,
   "id": "6d42266e",
   "metadata": {},
   "outputs": [
    {
     "data": {
      "text/plain": [
       "array([ 0,  1,  2,  3,  4,  5,  6,  7,  8,  9, 10, 11, 12, 13, 14, 15, 16,\n",
       "       17, 18, 19, 20, 21, 22, 23])"
      ]
     },
     "execution_count": 144,
     "metadata": {},
     "output_type": "execute_result"
    }
   ],
   "source": [
    "ave_start_array"
   ]
  },
  {
   "cell_type": "code",
   "execution_count": 145,
   "id": "250fa4fc",
   "metadata": {},
   "outputs": [
    {
     "data": {
      "text/plain": [
       "(24,)"
      ]
     },
     "execution_count": 145,
     "metadata": {},
     "output_type": "execute_result"
    }
   ],
   "source": [
    "ave_start_array.shape"
   ]
  },
  {
   "cell_type": "code",
   "execution_count": 146,
   "id": "04bbdf66",
   "metadata": {},
   "outputs": [],
   "source": [
    "ave_3_8_array=ave_start_array.reshape((3,8))"
   ]
  },
  {
   "cell_type": "code",
   "execution_count": 147,
   "id": "ed370539",
   "metadata": {},
   "outputs": [
    {
     "data": {
      "text/plain": [
       "array([[ 0,  1,  2,  3,  4,  5,  6,  7],\n",
       "       [ 8,  9, 10, 11, 12, 13, 14, 15],\n",
       "       [16, 17, 18, 19, 20, 21, 22, 23]])"
      ]
     },
     "execution_count": 147,
     "metadata": {},
     "output_type": "execute_result"
    }
   ],
   "source": [
    "ave_3_8_array"
   ]
  },
  {
   "cell_type": "code",
   "execution_count": 149,
   "id": "73d20d5d",
   "metadata": {},
   "outputs": [
    {
     "name": "stdout",
     "output_type": "stream",
     "text": [
      "0\n",
      "1\n",
      "2\n",
      "3\n",
      "4\n",
      "5\n",
      "6\n",
      "7\n",
      "8\n",
      "9\n",
      "10\n",
      "11\n",
      "12\n",
      "13\n",
      "14\n",
      "15\n",
      "16\n",
      "17\n",
      "18\n",
      "19\n",
      "20\n",
      "21\n",
      "22\n",
      "23\n"
     ]
    }
   ],
   "source": [
    "for n in ave_3_8_array.flat:\n",
    "    print(n)"
   ]
  },
  {
   "cell_type": "code",
   "execution_count": 150,
   "id": "83ef79eb",
   "metadata": {},
   "outputs": [],
   "source": [
    "ave_start_array=np.array(np.arange(24))\n",
    "ave_3_8_array=ave_start_array.reshape((3,8))\n",
    "ave_2_3_4_array=ave_3_8_array.reshape((2,3,4))"
   ]
  },
  {
   "cell_type": "code",
   "execution_count": 151,
   "id": "92b53771",
   "metadata": {},
   "outputs": [
    {
     "data": {
      "text/plain": [
       "array([[ 0,  1,  2,  3,  4,  5,  6,  7],\n",
       "       [ 8,  9, 10, 11, 12, 13, 14, 15],\n",
       "       [16, 17, 18, 19, 20, 21, 22, 23]])"
      ]
     },
     "execution_count": 151,
     "metadata": {},
     "output_type": "execute_result"
    }
   ],
   "source": [
    "ave_3_8_array"
   ]
  },
  {
   "cell_type": "code",
   "execution_count": 153,
   "id": "24cd4b4e",
   "metadata": {},
   "outputs": [],
   "source": [
    "flipper=np.fliplr(ave_3_8_array)"
   ]
  },
  {
   "cell_type": "code",
   "execution_count": 154,
   "id": "1458bfae",
   "metadata": {},
   "outputs": [
    {
     "data": {
      "text/plain": [
       "array([[ 7,  6,  5,  4,  3,  2,  1,  0],\n",
       "       [15, 14, 13, 12, 11, 10,  9,  8],\n",
       "       [23, 22, 21, 20, 19, 18, 17, 16]])"
      ]
     },
     "execution_count": 154,
     "metadata": {},
     "output_type": "execute_result"
    }
   ],
   "source": [
    "flipper"
   ]
  },
  {
   "cell_type": "code",
   "execution_count": 155,
   "id": "20b019f3",
   "metadata": {},
   "outputs": [
    {
     "data": {
      "text/plain": [
       "array([[[ 0,  1,  2,  3],\n",
       "        [ 4,  5,  6,  7],\n",
       "        [ 8,  9, 10, 11]],\n",
       "\n",
       "       [[12, 13, 14, 15],\n",
       "        [16, 17, 18, 19],\n",
       "        [20, 21, 22, 23]]])"
      ]
     },
     "execution_count": 155,
     "metadata": {},
     "output_type": "execute_result"
    }
   ],
   "source": [
    "ave_2_3_4_array"
   ]
  },
  {
   "cell_type": "code",
   "execution_count": 156,
   "id": "922cd72c",
   "metadata": {},
   "outputs": [
    {
     "data": {
      "text/plain": [
       "array([[[ 8,  9, 10, 11],\n",
       "        [ 4,  5,  6,  7],\n",
       "        [ 0,  1,  2,  3]],\n",
       "\n",
       "       [[20, 21, 22, 23],\n",
       "        [16, 17, 18, 19],\n",
       "        [12, 13, 14, 15]]])"
      ]
     },
     "execution_count": 156,
     "metadata": {},
     "output_type": "execute_result"
    }
   ],
   "source": [
    "np.fliplr(ave_2_3_4_array)"
   ]
  },
  {
   "cell_type": "code",
   "execution_count": 157,
   "id": "b55d9e21",
   "metadata": {},
   "outputs": [
    {
     "data": {
      "text/plain": [
       "array([[ 0,  1,  2,  3,  4,  5,  6,  7],\n",
       "       [ 8,  9, 10, 11, 12, 13, 14, 15],\n",
       "       [16, 17, 18, 19, 20, 21, 22, 23]])"
      ]
     },
     "execution_count": 157,
     "metadata": {},
     "output_type": "execute_result"
    }
   ],
   "source": [
    "ave_3_8_array"
   ]
  },
  {
   "cell_type": "code",
   "execution_count": 158,
   "id": "d90f9761",
   "metadata": {},
   "outputs": [
    {
     "data": {
      "text/plain": [
       "array([[16, 17, 18, 19, 20, 21, 22, 23],\n",
       "       [ 8,  9, 10, 11, 12, 13, 14, 15],\n",
       "       [ 0,  1,  2,  3,  4,  5,  6,  7]])"
      ]
     },
     "execution_count": 158,
     "metadata": {},
     "output_type": "execute_result"
    }
   ],
   "source": [
    "np.flipud(ave_3_8_array)"
   ]
  },
  {
   "cell_type": "code",
   "execution_count": 159,
   "id": "4f407ae9",
   "metadata": {},
   "outputs": [
    {
     "data": {
      "text/plain": [
       "array([[[12, 13, 14, 15],\n",
       "        [16, 17, 18, 19],\n",
       "        [20, 21, 22, 23]],\n",
       "\n",
       "       [[ 0,  1,  2,  3],\n",
       "        [ 4,  5,  6,  7],\n",
       "        [ 8,  9, 10, 11]]])"
      ]
     },
     "execution_count": 159,
     "metadata": {},
     "output_type": "execute_result"
    }
   ],
   "source": [
    "np.flipud(ave_2_3_4_array)"
   ]
  },
  {
   "cell_type": "code",
   "execution_count": 160,
   "id": "eb7940f7",
   "metadata": {},
   "outputs": [
    {
     "data": {
      "text/plain": [
       "array([ 0,  1,  2,  3,  4,  5,  6,  7,  8,  9, 10, 11, 12, 13, 14, 15, 16,\n",
       "       17, 18, 19, 20, 21, 22, 23])"
      ]
     },
     "execution_count": 160,
     "metadata": {},
     "output_type": "execute_result"
    }
   ],
   "source": [
    "ave_start_array"
   ]
  },
  {
   "cell_type": "code",
   "execution_count": 161,
   "id": "bcb825ce",
   "metadata": {},
   "outputs": [
    {
     "data": {
      "text/plain": [
       "array([19, 20, 21, 22, 23,  0,  1,  2,  3,  4,  5,  6,  7,  8,  9, 10, 11,\n",
       "       12, 13, 14, 15, 16, 17, 18])"
      ]
     },
     "execution_count": 161,
     "metadata": {},
     "output_type": "execute_result"
    }
   ],
   "source": [
    "np.roll(ave_start_array,5)"
   ]
  },
  {
   "cell_type": "code",
   "execution_count": 162,
   "id": "75152dae",
   "metadata": {},
   "outputs": [
    {
     "data": {
      "text/plain": [
       "array([ 5,  6,  7,  8,  9, 10, 11, 12, 13, 14, 15, 16, 17, 18, 19, 20, 21,\n",
       "       22, 23,  0,  1,  2,  3,  4])"
      ]
     },
     "execution_count": 162,
     "metadata": {},
     "output_type": "execute_result"
    }
   ],
   "source": [
    "np.roll(ave_start_array,-5)"
   ]
  },
  {
   "cell_type": "code",
   "execution_count": 163,
   "id": "340a314b",
   "metadata": {},
   "outputs": [
    {
     "data": {
      "text/plain": [
       "array([[[ 0,  1,  2,  3],\n",
       "        [ 4,  5,  6,  7],\n",
       "        [ 8,  9, 10, 11]],\n",
       "\n",
       "       [[12, 13, 14, 15],\n",
       "        [16, 17, 18, 19],\n",
       "        [20, 21, 22, 23]]])"
      ]
     },
     "execution_count": 163,
     "metadata": {},
     "output_type": "execute_result"
    }
   ],
   "source": [
    "ave_2_3_4_array"
   ]
  },
  {
   "cell_type": "code",
   "execution_count": 164,
   "id": "0d1c6cde",
   "metadata": {},
   "outputs": [
    {
     "data": {
      "text/plain": [
       "array([[[22, 23,  0,  1],\n",
       "        [ 2,  3,  4,  5],\n",
       "        [ 6,  7,  8,  9]],\n",
       "\n",
       "       [[10, 11, 12, 13],\n",
       "        [14, 15, 16, 17],\n",
       "        [18, 19, 20, 21]]])"
      ]
     },
     "execution_count": 164,
     "metadata": {},
     "output_type": "execute_result"
    }
   ],
   "source": [
    "np.roll(ave_2_3_4_array,2)"
   ]
  },
  {
   "cell_type": "code",
   "execution_count": 165,
   "id": "b2726b61",
   "metadata": {},
   "outputs": [
    {
     "data": {
      "text/plain": [
       "array([[[ 2,  3,  4,  5],\n",
       "        [ 6,  7,  8,  9],\n",
       "        [10, 11, 12, 13]],\n",
       "\n",
       "       [[14, 15, 16, 17],\n",
       "        [18, 19, 20, 21],\n",
       "        [22, 23,  0,  1]]])"
      ]
     },
     "execution_count": 165,
     "metadata": {},
     "output_type": "execute_result"
    }
   ],
   "source": [
    "np.roll(ave_2_3_4_array,-2)"
   ]
  },
  {
   "cell_type": "code",
   "execution_count": 166,
   "id": "c3908380",
   "metadata": {},
   "outputs": [
    {
     "data": {
      "text/plain": [
       "array([[ 0,  1,  2,  3,  4,  5,  6,  7],\n",
       "       [ 8,  9, 10, 11, 12, 13, 14, 15],\n",
       "       [16, 17, 18, 19, 20, 21, 22, 23]])"
      ]
     },
     "execution_count": 166,
     "metadata": {},
     "output_type": "execute_result"
    }
   ],
   "source": [
    "ave_3_8_array"
   ]
  },
  {
   "cell_type": "code",
   "execution_count": 167,
   "id": "f6eb865f",
   "metadata": {},
   "outputs": [
    {
     "data": {
      "text/plain": [
       "array([[ 7, 15, 23],\n",
       "       [ 6, 14, 22],\n",
       "       [ 5, 13, 21],\n",
       "       [ 4, 12, 20],\n",
       "       [ 3, 11, 19],\n",
       "       [ 2, 10, 18],\n",
       "       [ 1,  9, 17],\n",
       "       [ 0,  8, 16]])"
      ]
     },
     "execution_count": 167,
     "metadata": {},
     "output_type": "execute_result"
    }
   ],
   "source": [
    "np.rot90(ave_3_8_array)"
   ]
  },
  {
   "cell_type": "code",
   "execution_count": 168,
   "id": "2dd9a120",
   "metadata": {},
   "outputs": [],
   "source": [
    "ave_array_one=np.array(np.arange(10))"
   ]
  },
  {
   "cell_type": "code",
   "execution_count": 169,
   "id": "a3432082",
   "metadata": {},
   "outputs": [
    {
     "data": {
      "text/plain": [
       "array([0, 1, 2, 3, 4, 5, 6, 7, 8, 9])"
      ]
     },
     "execution_count": 169,
     "metadata": {},
     "output_type": "execute_result"
    }
   ],
   "source": [
    "ave_array_one"
   ]
  },
  {
   "cell_type": "code",
   "execution_count": 170,
   "id": "22cbd658",
   "metadata": {},
   "outputs": [
    {
     "data": {
      "text/plain": [
       "array([0, 1, 2, 3, 4, 5, 6, 7, 8, 9, 0, 1, 2, 3, 4, 5, 6, 7, 8, 9, 0, 1,\n",
       "       2, 3, 4, 5, 6, 7, 8, 9, 0, 1, 2, 3, 4, 5, 6, 7, 8, 9, 0, 1, 2, 3,\n",
       "       4, 5, 6, 7, 8, 9])"
      ]
     },
     "execution_count": 170,
     "metadata": {},
     "output_type": "execute_result"
    }
   ],
   "source": [
    "np.tile(ave_array_one,5)"
   ]
  },
  {
   "cell_type": "code",
   "execution_count": 171,
   "id": "74bb2501",
   "metadata": {},
   "outputs": [
    {
     "data": {
      "text/plain": [
       "array([[0, 1, 2, 3, 4, 5, 6, 7, 8, 9],\n",
       "       [0, 1, 2, 3, 4, 5, 6, 7, 8, 9],\n",
       "       [0, 1, 2, 3, 4, 5, 6, 7, 8, 9],\n",
       "       [0, 1, 2, 3, 4, 5, 6, 7, 8, 9],\n",
       "       [0, 1, 2, 3, 4, 5, 6, 7, 8, 9]])"
      ]
     },
     "execution_count": 171,
     "metadata": {},
     "output_type": "execute_result"
    }
   ],
   "source": [
    "np.tile(ave_array_one,5).reshape(5,10)"
   ]
  },
  {
   "cell_type": "code",
   "execution_count": 172,
   "id": "5863e9b1",
   "metadata": {},
   "outputs": [],
   "source": [
    "ave_array_two=np.array(np.arange(7))"
   ]
  },
  {
   "cell_type": "code",
   "execution_count": 173,
   "id": "b7287e7d",
   "metadata": {},
   "outputs": [],
   "source": [
    "tile_1=np.tile(ave_array_two,(3,1))"
   ]
  },
  {
   "cell_type": "code",
   "execution_count": 174,
   "id": "03efbc5a",
   "metadata": {},
   "outputs": [
    {
     "data": {
      "text/plain": [
       "array([[0, 1, 2, 3, 4, 5, 6],\n",
       "       [0, 1, 2, 3, 4, 5, 6],\n",
       "       [0, 1, 2, 3, 4, 5, 6]])"
      ]
     },
     "execution_count": 174,
     "metadata": {},
     "output_type": "execute_result"
    }
   ],
   "source": [
    "tile_1"
   ]
  },
  {
   "cell_type": "code",
   "execution_count": 179,
   "id": "a6773588",
   "metadata": {},
   "outputs": [
    {
     "data": {
      "text/plain": [
       "array([0, 0, 0, 1, 1, 1, 2, 2, 2, 3, 3, 3, 4, 4, 4, 5, 5, 5, 6, 6, 6])"
      ]
     },
     "execution_count": 179,
     "metadata": {},
     "output_type": "execute_result"
    }
   ],
   "source": [
    "np.repeat(ave_array_two,3)"
   ]
  },
  {
   "cell_type": "code",
   "execution_count": null,
   "id": "efdc3e68",
   "metadata": {},
   "outputs": [],
   "source": []
  }
 ],
 "metadata": {
  "kernelspec": {
   "display_name": "Python 3 (ipykernel)",
   "language": "python",
   "name": "python3"
  },
  "language_info": {
   "codemirror_mode": {
    "name": "ipython",
    "version": 3
   },
   "file_extension": ".py",
   "mimetype": "text/x-python",
   "name": "python",
   "nbconvert_exporter": "python",
   "pygments_lexer": "ipython3",
   "version": "3.8.7"
  },
  "widgets": {
   "application/vnd.jupyter.widget-state+json": {
    "state": {},
    "version_major": 2,
    "version_minor": 0
   }
  }
 },
 "nbformat": 4,
 "nbformat_minor": 5
}
